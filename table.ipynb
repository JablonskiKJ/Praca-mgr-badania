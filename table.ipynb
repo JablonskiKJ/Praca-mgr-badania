{
 "cells": [
  {
   "cell_type": "code",
   "execution_count": null,
   "metadata": {},
   "outputs": [],
   "source": [
    "import pandas as pd\n",
    "import numpy as np\n",
    "import os"
   ]
  },
  {
   "cell_type": "code",
   "execution_count": null,
   "metadata": {},
   "outputs": [],
   "source": [
    "path0 = 'Rankings2'\n",
    "\n",
    "paths = ['dsf','dsk','duf','duw']\n",
    "\n",
    "dfF=pd.DataFrame(index=range(24))\n",
    "dfM=pd.DataFrame(index=range(24))\n",
    "\n",
    "for path2 in paths:\n",
    "\n",
    "    path = path0 + '/' + path2\n",
    "\n",
    "    ranking_paths = [f for f in os.listdir(path) if f.endswith('.ranking')]\n",
    "    # display(ranking_paths)\n",
    "    F=[f for f in ranking_paths if f[0]=='F']\n",
    "    M=[f for f in ranking_paths if f[0]!='F']\n",
    "    \n",
    "    rankings = [pd.read_csv(path+'/'+ranking_path, sep=\",\", index_col=0) for ranking_path in F]\n",
    "    for ranking,_path in zip(rankings,F):\n",
    "        dfF[_path[:-13]]=pd.Series(ranking.index)\n",
    "  \n",
    "    rankings = [pd.read_csv(path+'/'+ranking_path, sep=\",\", index_col=0) for ranking_path in M]\n",
    "    for ranking,_path in zip(rankings,M):\n",
    "        dfM[_path[:-13]]=pd.Series(ranking.index)\n",
    "\n",
    "dfF.index+=1\n",
    "dfM.index+=1"
   ]
  },
  {
   "cell_type": "code",
   "execution_count": null,
   "metadata": {},
   "outputs": [],
   "source": [
    "dfF"
   ]
  },
  {
   "cell_type": "code",
   "execution_count": null,
   "metadata": {},
   "outputs": [],
   "source": [
    "dfM"
   ]
  },
  {
   "cell_type": "code",
   "execution_count": null,
   "metadata": {},
   "outputs": [],
   "source": [
    "from openpyxl import load_workbook, Workbook\n",
    "\n",
    "def df_to_excel(df: pd.DataFrame, filename: str, sheet_name: str):\n",
    "    # Otwórz istniejący plik Excel\n",
    "    if os.path.exists(filename):\n",
    "        workbook = load_workbook(filename)\n",
    "    else:\n",
    "        workbook = Workbook()\n",
    "\n",
    "    # Konwertuj DataFrame na arkusz Excel\n",
    "    writer = pd.ExcelWriter(filename, engine='openpyxl') \n",
    "    writer.book = workbook\n",
    "\n",
    "    # Dopisz DataFrame do nowego arkusza\n",
    "    df.to_excel(writer, sheet_name=sheet_name)\n",
    "\n",
    "    # Zapisz zmiany w pliku\n",
    "    writer.save()"
   ]
  },
  {
   "cell_type": "code",
   "execution_count": null,
   "metadata": {},
   "outputs": [],
   "source": [
    "df_to_excel(dfF, 'Results2/Results.xlsx','Female')\n",
    "df_to_excel(dfM, 'Results2/Results.xlsx','Male')"
   ]
  },
  {
   "cell_type": "code",
   "execution_count": null,
   "metadata": {},
   "outputs": [],
   "source": [
    "display(dfF,dfM)"
   ]
  }
 ],
 "metadata": {
  "kernelspec": {
   "display_name": "US",
   "language": "python",
   "name": "python3"
  },
  "language_info": {
   "codemirror_mode": {
    "name": "ipython",
    "version": 3
   },
   "file_extension": ".py",
   "mimetype": "text/x-python",
   "name": "python",
   "nbconvert_exporter": "python",
   "pygments_lexer": "ipython3",
   "version": "3.8.13"
  },
  "orig_nbformat": 4
 },
 "nbformat": 4,
 "nbformat_minor": 2
}
