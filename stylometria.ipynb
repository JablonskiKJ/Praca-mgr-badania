{
 "cells": [
  {
   "attachments": {},
   "cell_type": "markdown",
   "id": "142cb735-59f4-4664-be26-2b199ba1da5f",
   "metadata": {},
   "source": [
    "## Preprocessing"
   ]
  },
  {
   "attachments": {},
   "cell_type": "markdown",
   "id": "5c267d34-3cd8-454a-86ac-7e5720bc1962",
   "metadata": {
    "tags": []
   },
   "source": [
    "#### Imports"
   ]
  },
  {
   "cell_type": "code",
   "execution_count": 1,
   "id": "304a1639-299c-42c1-ba0f-71cc8dbaf532",
   "metadata": {},
   "outputs": [],
   "source": [
    "import pandas as pd\n",
    "import numpy as np\n",
    "from rules import Rules\n",
    "import os"
   ]
  },
  {
   "attachments": {},
   "cell_type": "markdown",
   "id": "b4a09283-f5f7-4bdd-85c5-6f416712c640",
   "metadata": {
    "jp-MarkdownHeadingCollapsed": true,
    "tags": []
   },
   "source": [
    "#### Wczytanie danych i wyświetlenie info"
   ]
  },
  {
   "cell_type": "code",
   "execution_count": 2,
   "metadata": {},
   "outputs": [
    {
     "data": {
      "text/plain": [
       "['Dane/dsk/2MLdsK00001URses.csv', 'Dane/dsk/FLdsK00001URses.csv']"
      ]
     },
     "metadata": {},
     "output_type": "display_data"
    },
    {
     "data": {
      "text/plain": [
       "['Rankings2/dsk/2MLdsK00001URses.ranking',\n",
       " 'Rankings2/dsk/FLdsK00001URses.ranking']"
      ]
     },
     "metadata": {},
     "output_type": "display_data"
    }
   ],
   "source": [
    "path0 = 'Rankings2'\n",
    "path1 = 'Dane'\n",
    "path2 = 'duw'\n",
    "path=path1+'/'+path2\n",
    "file_paths = [path+'/'+f for f in os.listdir(path) if f.endswith('.csv') and f[1]!='T']\n",
    "#text_files = ['Dane/duw/FLduwb00002URses.csv']\n",
    "display(file_paths)\n",
    "ranking_paths = [path0+x[len(path1):-3]+'ranking' for x in file_paths]\n",
    "display(ranking_paths)"
   ]
  },
  {
   "cell_type": "code",
   "execution_count": 27,
   "metadata": {},
   "outputs": [],
   "source": [
    "# path1 = 'Dane'\n",
    "# path2 = 'dsf'\n",
    "# path=path1+'/'+path2\n",
    "# text_files = [path+'/'+f for f in os.listdir(path) if f.endswith('.csv') and f[1]!='T']\n",
    "# #text_files = ['Dane/duw/FLduwb00002URses.csv']\n",
    "# text_files"
   ]
  },
  {
   "attachments": {},
   "cell_type": "markdown",
   "id": "06ae05ec",
   "metadata": {},
   "source": [
    "#### Spójność"
   ]
  },
  {
   "cell_type": "code",
   "execution_count": 21,
   "id": "cd3cce51",
   "metadata": {},
   "outputs": [
    {
     "ename": "NameError",
     "evalue": "name 'df' is not defined",
     "output_type": "error",
     "traceback": [
      "\u001b[1;31m---------------------------------------------------------------------------\u001b[0m",
      "\u001b[1;31mNameError\u001b[0m                                 Traceback (most recent call last)",
      "Input \u001b[1;32mIn [21]\u001b[0m, in \u001b[0;36m<cell line: 7>\u001b[1;34m()\u001b[0m\n\u001b[0;32m      4\u001b[0m     col2\u001b[38;5;241m=\u001b[39mdf_\u001b[38;5;241m.\u001b[39mduplicated(keep\u001b[38;5;241m=\u001b[39m\u001b[38;5;28;01mFalse\u001b[39;00m)\n\u001b[0;32m      5\u001b[0m     \u001b[38;5;28;01mreturn\u001b[39;00m \u001b[38;5;28;01mTrue\u001b[39;00m \u001b[38;5;28;01mif\u001b[39;00m(col1\u001b[38;5;241m==\u001b[39mcol2)\u001b[38;5;241m.\u001b[39mall() \u001b[38;5;28;01melse\u001b[39;00m \u001b[38;5;28;01mFalse\u001b[39;00m\n\u001b[1;32m----> 7\u001b[0m Coherence(\u001b[43mdf\u001b[49m)\n",
      "\u001b[1;31mNameError\u001b[0m: name 'df' is not defined"
     ]
    }
   ],
   "source": [
    "#Sprawdzenie spójności\n",
    "def Coherence(df_: pd.DataFrame) -> bool:\n",
    "    col1=df_.iloc[:,:-1].duplicated(keep=False)\n",
    "    col2=df_.duplicated(keep=False)\n",
    "    return True if(col1==col2).all() else False\n",
    "\n",
    "# Coherence(df)"
   ]
  },
  {
   "attachments": {},
   "cell_type": "markdown",
   "id": "c364f7f0-4a50-40e4-96c7-51d37dd8e06c",
   "metadata": {},
   "source": [
    "## Konstruowanie reguł decyzyjnych"
   ]
  },
  {
   "cell_type": "code",
   "execution_count": 4,
   "metadata": {},
   "outputs": [],
   "source": [
    "def create_rankings(filepath,rankingpath):\n",
    "    display(filepath)\n",
    "    df = pd.read_csv(filepath, sep=\",\")\n",
    "    rules=Rules(df)\n",
    "    rules.oneBin()\n",
    "    rules.makeDfr()\n",
    "    rules.makeRules()\n",
    "    rules.makeSentences()\n",
    "    rules.uniqueRules()\n",
    "    rules.calculateLength()\n",
    "    rules.calculateSupport()\n",
    "    rules.calculateMisclassification()\n",
    "    rules.separated_rows()\n",
    "    rules.makeRanking()\n",
    "    #rules.ranking.to_csv(rankingpath)\n",
    "    return rules"
   ]
  },
  {
   "cell_type": "code",
   "execution_count": 30,
   "metadata": {},
   "outputs": [],
   "source": [
    "# def create_rankings(filepath,rankingpath):\n",
    "#     df = pd.read_csv(filepath, sep=\",\")\n",
    "#     if(Coherence(df)):\n",
    "#         rules=Rules(df)\n",
    "#         rules.oneBin()\n",
    "#         rules.makeDfr()\n",
    "#         rules.makeRules()\n",
    "#         rules.makeSentences()\n",
    "#         rules.uniqueRules()\n",
    "#         rules.calculateLength()\n",
    "#         rules.calculateSupport()\n",
    "#         rules.calculateMisclassification()\n",
    "#         rules.separated_rows()\n",
    "#         rules.makeRanking()\n",
    "#         rules.ranking.to_csv(rankingpath)\n",
    "#         return rules\n",
    "#     else: print('not coherence '+ filepath)"
   ]
  },
  {
   "cell_type": "code",
   "execution_count": 5,
   "metadata": {},
   "outputs": [
    {
     "data": {
      "text/plain": [
       "'Dane/dsk/2MLdsK00001URses.csv'"
      ]
     },
     "metadata": {},
     "output_type": "display_data"
    },
    {
     "data": {
      "text/plain": [
       "'Dane/dsk/FLdsK00001URses.csv'"
      ]
     },
     "metadata": {},
     "output_type": "display_data"
    }
   ],
   "source": [
    "rul=[create_rankings(*x) for x in zip(file_paths,ranking_paths)]"
   ]
  },
  {
   "cell_type": "code",
   "execution_count": 32,
   "metadata": {},
   "outputs": [],
   "source": [
    "# filepath=text_files[0]\n",
    "\n",
    "# df = pd.read_csv(filepath, sep=\",\")\n",
    "# rules=Rules(df)\n",
    "# rules.makeDfr()\n",
    "# rules.makeRules()\n",
    "# rules.makeSentences()\n",
    "# rules.uniqueRules()\n",
    "# rules.calculateLength()\n",
    "# rules.calculateSupport()\n",
    "# rules.calculateMisclassification()\n",
    "# rules.separated_rows()\n",
    "# rules.makeRanking()\n",
    "# rules.ranking.to_csv(filepath[:-3]+'ranking')"
   ]
  }
 ],
 "metadata": {
  "kernelspec": {
   "display_name": "US",
   "language": "python",
   "name": "python3"
  },
  "language_info": {
   "codemirror_mode": {
    "name": "ipython",
    "version": 3
   },
   "file_extension": ".py",
   "mimetype": "text/x-python",
   "name": "python",
   "nbconvert_exporter": "python",
   "pygments_lexer": "ipython3",
   "version": "3.8.13"
  },
  "orig_nbformat": 4,
  "vscode": {
   "interpreter": {
    "hash": "d9ee59d526477b7afe0163b6a0d1dc36f4130464713dea179c55705287fd16ef"
   }
  }
 },
 "nbformat": 4,
 "nbformat_minor": 2
}
